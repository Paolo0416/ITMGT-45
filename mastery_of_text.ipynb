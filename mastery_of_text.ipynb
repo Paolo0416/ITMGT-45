{
 "cells": [
  {
   "cell_type": "code",
   "execution_count": 16,
   "id": "e75719b0-4298-4e6b-b368-3633fd5c699a",
   "metadata": {},
   "outputs": [
    {
     "name": "stdout",
     "output_type": "stream",
     "text": [
      "Number of lines:  99968\n",
      "Number of words:  749774\n",
      "Appearances of apostle:  113\n",
      "The most used word:  the\n"
     ]
    }
   ],
   "source": [
    "import urllib.request\n",
    "\n",
    "request_url = urllib.request.urlopen('https://www.gutenberg.org/cache/epub/10/pg10.txt')\n",
    "\n",
    "pg10 = request_url.read()\n",
    "\n",
    "line_breaks = len(pg10.splitlines())\n",
    "print('Number of lines: ', line_breaks)\n",
    "\n",
    "word_count = len(str(pg10).split(' '))\n",
    "print('Number of words: ', word_count)\n",
    "\n",
    "apostle_count = (str(pg10.lower())).count(\"apostle\")\n",
    "print('Appearances of apostle: ', apostle_count)\n",
    "\n",
    "pg10_list = str(pg10.lower()).split(' ')\n",
    "\n",
    "dictionary = {}\n",
    "\n",
    "for word in pg10_list:\n",
    "    dictionary[word] = dictionary.get(word, 0) + 1\n",
    "\n",
    "most_used = max(dictionary, key=dictionary.get)\n",
    "\n",
    "print('The most used word: ', most_used)"
   ]
  },
  {
   "cell_type": "code",
   "execution_count": null,
   "id": "2b728141-0547-4517-b7c4-5c2ee0449948",
   "metadata": {},
   "outputs": [],
   "source": []
  }
 ],
 "metadata": {
  "kernelspec": {
   "display_name": "Python [conda env:base] *",
   "language": "python",
   "name": "conda-base-py"
  },
  "language_info": {
   "codemirror_mode": {
    "name": "ipython",
    "version": 3
   },
   "file_extension": ".py",
   "mimetype": "text/x-python",
   "name": "python",
   "nbconvert_exporter": "python",
   "pygments_lexer": "ipython3",
   "version": "3.13.5"
  }
 },
 "nbformat": 4,
 "nbformat_minor": 5
}
