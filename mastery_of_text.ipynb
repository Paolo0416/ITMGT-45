{
 "cells": [
  {
   "cell_type": "code",
   "execution_count": 5,
   "id": "e75719b0-4298-4e6b-b368-3633fd5c699a",
   "metadata": {},
   "outputs": [
    {
     "name": "stdout",
     "output_type": "stream",
     "text": [
      "Number of lines:  99968\n",
      "Number of words:  749774\n",
      "Appearances of apostle:  113\n",
      "The most used word:  the\n"
     ]
    }
   ],
   "source": [
    "import urllib.request\n",
    "\n",
    "# URL is opened.\n",
    "request_url = urllib.request.urlopen('https://www.gutenberg.org/cache/epub/10/pg10.txt')\n",
    "\n",
    "# URL is read and turned into a variable.\n",
    "pg10 = request_url.read()\n",
    "\n",
    "# Number of line breaks are calculated.\n",
    "line_breaks = len(pg10.splitlines())\n",
    "print('Number of lines: ', line_breaks)\n",
    "\n",
    "# Number of words, characters separated by a space, are counted.\n",
    "word_count = len(str(pg10).split(' '))\n",
    "print('Number of words: ', word_count)\n",
    "\n",
    "# Pg10 is converted to all lowercase, and the number of times \"apostle\" is used are counted.\n",
    "apostle_count = (str(pg10.lower())).count(\"apostle\")\n",
    "print('Appearances of apostle: ', apostle_count)\n",
    "\n",
    "# Pg10 is converted to a list.\n",
    "pg10_list = str(pg10.lower()).split(' ')\n",
    "\n",
    "# Number of times a word is used is calculated.\n",
    "dictionary = {}\n",
    "for word in pg10_list:\n",
    "    dictionary[word] = dictionary.get(word, 0) + 1\n",
    "\n",
    "most_used = max(dictionary, key=dictionary.get)\n",
    "\n",
    "# Most used word is presented.\n",
    "print('The most used word: ', most_used)"
   ]
  },
  {
   "cell_type": "code",
   "execution_count": null,
   "id": "2b728141-0547-4517-b7c4-5c2ee0449948",
   "metadata": {},
   "outputs": [],
   "source": []
  }
 ],
 "metadata": {
  "kernelspec": {
   "display_name": "Python [conda env:base] *",
   "language": "python",
   "name": "conda-base-py"
  },
  "language_info": {
   "codemirror_mode": {
    "name": "ipython",
    "version": 3
   },
   "file_extension": ".py",
   "mimetype": "text/x-python",
   "name": "python",
   "nbconvert_exporter": "python",
   "pygments_lexer": "ipython3",
   "version": "3.13.5"
  }
 },
 "nbformat": 4,
 "nbformat_minor": 5
}
